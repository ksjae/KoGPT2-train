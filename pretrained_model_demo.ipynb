{
  "cells": [
    {
      "cell_type": "markdown",
      "metadata": {},
      "source": [
        "[![GitHub stars](https://img.shields.io/github/stars/imcaspar/gpt2-ml?style=social)](https://github.com/imcaspar/gpt2-ml)\n",
        "[![GitHub](https://img.shields.io/github/license/imcaspar/gpt2-ml)](https://github.com/imcaspar/gpt2-ml)\n",
        "[![Twitter URL](https://img.shields.io/twitter/url?style=social&url=https%3A%2F%2Fgithub.com%2Fimcaspar%2Fgpt2-ml)](https://twitter.com/intent/tweet?text=Wow:&url=https://github.com/imcaspar/gpt2-ml)\n",
        "### Instructions for running:\n",
        "\n",
        "* Press the ▶️button on the left of each of the cells\n",
        "* View the code: Double click any of the cells\n",
        "* Hide the code: Double click the right side of the cell"
      ]
    },
    {
      "cell_type": "code",
      "execution_count": null,
      "metadata": {},
      "outputs": [],
      "source": [
        "#@title #Prerequisites\n",
        "#%tensorflow_version 1.x\n",
        "!pip install -I tensorflow-gpu==1.15.2 &> tmp.log\n",
        "!git clone -q https://github.com/imcaspar/gpt2-ml\n",
        "%cd /content/gpt2-ml\n",
        "!mkdir -p /content/gpt2-ml/models/mega\n",
        "\n",
        "!perl 3rd/gdown.pl/gdown.pl https://drive.google.com/open?id=1mT_qCQg4AWnAXTwKfsyyRWCRpgPrBJS3 models/mega/model.ckpt-220000.data-00000-of-00001\n",
        "!wget -q --show-progress https://github.com/imcaspar/gpt2-ml/releases/download/v1.0/model.ckpt-220000.index -P models/mega\n",
        "!wget -q --show-progress https://github.com/imcaspar/gpt2-ml/releases/download/v1.0/model.ckpt-220000.meta -P models/mega\n",
        "!echo 'Download finished.'\n",
        "# If gdown.pl failed, please uncomment following code & exec\n",
        "# !python3 scripts/down_gdrive_file.py -file_id='1mT_qCQg4AWnAXTwKfsyyRWCRpgPrBJS3' -file_path='models/mega/model.ckpt-220000.data-00000-of-00001'"
      ]
    },
    {
      "cell_type": "code",
      "execution_count": null,
      "metadata": {},
      "outputs": [],
      "source": [
        "#@title #Inference\n",
        "min_len = 150#@param {type:\"number\", min:5, max:1024, step:1}\n",
        "sample_num =   5#@param {type:\"number\", min:1, max:50, step:1}\n",
        "!PYTHONPATH=$(pwd) python scripts/demo.py -ckpt_fn models/mega/model.ckpt-220000 -min_len $min_len -samples $sample_num"
      ]
    }
  ],
  "metadata": {
    "colab": {
      "name": "15 亿参数 GPT2 中文预训练模型 | 1.5B GPT2 Pretrained Chinese Model",
      "provenance": [],
      "collapsed_sections": []
    },
    "kernelspec": {
      "name": "python3",
      "display_name": "Python 3"
    },
    "accelerator": "GPU"
  },
  "nbformat": 4,
  "nbformat_minor": 0
}